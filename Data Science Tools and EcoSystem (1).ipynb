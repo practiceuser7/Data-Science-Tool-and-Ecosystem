{
 "cells": [
  {
   "cell_type": "markdown",
   "id": "9bb39d00-4823-41c3-be90-ef6404f7f244",
   "metadata": {},
   "source": [
    "# Data Science Tools and EcoSystem"
   ]
  },
  {
   "cell_type": "markdown",
   "id": "0309ed35-1eb3-4b1c-a6d1-d4dbcdfea855",
   "metadata": {},
   "source": [
    "In this notebook, Data Science Tools and Ecosystem are summarized."
   ]
  },
  {
   "cell_type": "markdown",
   "id": "4de4f3e1-e381-4e30-bb13-45389d1327d6",
   "metadata": {},
   "source": [
    "**Objectives:**\n",
    "* Julia\n",
    "* SQL\n",
    "* Scala\n",
    "* Java"
   ]
  },
  {
   "cell_type": "markdown",
   "id": "cd251b53-e6c2-4cac-8aa3-d105c222136b",
   "metadata": {},
   "source": [
    "Some of the popular languages that Data Scientists use are:\n",
    "1. R\n",
    "2. Python\n",
    "3. C++\n",
    "4. SQL"
   ]
  },
  {
   "cell_type": "markdown",
   "id": "5cb7fac6-1db9-49de-9540-f8c1a4b2d8b4",
   "metadata": {},
   "source": [
    "Some of the commonly used libraries used by Data Scientists include:\n",
    "1. dplyr\n",
    "2. stringr\n",
    "3. ggplot\n",
    "4. caret"
   ]
  },
  {
   "cell_type": "markdown",
   "id": "f13866b0-e4f0-4f82-aff1-fcda4bc73486",
   "metadata": {},
   "source": [
    "| Data Science Tools |\n",
    "|--------------------|\n",
    "| Python |\n",
    "| MAX |\n",
    "| Kubernetes |"
   ]
  },
  {
   "cell_type": "markdown",
   "id": "94906bba-7c54-4cfd-adab-b895579e903c",
   "metadata": {},
   "source": [
    "### Below are a few examples of evaluating arithmetic expresions in Python"
   ]
  },
  {
   "cell_type": "code",
   "execution_count": 5,
   "id": "d12a72fa-2fcf-49f4-bf0f-9126eae103f2",
   "metadata": {},
   "outputs": [
    {
     "data": {
      "text/plain": [
       "17"
      ]
     },
     "execution_count": 5,
     "metadata": {},
     "output_type": "execute_result"
    }
   ],
   "source": [
    "# This is a simple arithmetic expression to multiply the ass integer.\n",
    "(3*4)+5"
   ]
  },
  {
   "cell_type": "code",
   "execution_count": 6,
   "id": "edde507e-101c-4e63-b51f-956c27557cc3",
   "metadata": {},
   "outputs": [
    {
     "data": {
      "text/plain": [
       "3.3333333333333335"
      ]
     },
     "execution_count": 6,
     "metadata": {},
     "output_type": "execute_result"
    }
   ],
   "source": [
    "# This will convert 200 minutes to hours by dividing by 60\n",
    "200/60"
   ]
  },
  {
   "cell_type": "markdown",
   "id": "3a841e19-571d-41ea-90b1-decbfeb69cc8",
   "metadata": {
    "tags": []
   },
   "source": [
    "## Author\n",
    "B D"
   ]
  }
 ],
 "metadata": {
  "kernelspec": {
   "display_name": "Python",
   "language": "python",
   "name": "conda-env-python-py"
  },
  "language_info": {
   "codemirror_mode": {
    "name": "ipython",
    "version": 3
   },
   "file_extension": ".py",
   "mimetype": "text/x-python",
   "name": "python",
   "nbconvert_exporter": "python",
   "pygments_lexer": "ipython3",
   "version": "3.7.12"
  }
 },
 "nbformat": 4,
 "nbformat_minor": 5
}
